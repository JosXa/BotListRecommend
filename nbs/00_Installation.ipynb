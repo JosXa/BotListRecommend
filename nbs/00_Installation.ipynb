{
 "cells": [
  {
   "cell_type": "code",
   "execution_count": null,
   "metadata": {},
   "outputs": [],
   "source": [
    "# default_exp core"
   ]
  },
  {
   "cell_type": "markdown",
   "metadata": {},
   "source": [
    "# module name here\n",
    "\n",
    "> API details."
   ]
  },
  {
   "cell_type": "code",
   "execution_count": null,
   "metadata": {},
   "outputs": [
    {
     "name": "stdout",
     "output_type": "stream",
     "text": [
      "Requirement already satisfied: tgintegration in /usr/local/lib/python3.8/dist-packages (1.1.0)\n",
      "Requirement already satisfied: tgcrypto in /usr/local/lib/python3.8/dist-packages (1.2.2)\n",
      "Collecting python-decouple\n",
      "  Downloading python-decouple-3.3.tar.gz (10 kB)\n",
      "Requirement already satisfied: pyrogram<2.0.0,>=1.0.0 in /usr/local/lib/python3.8/dist-packages (from tgintegration) (1.0.7)\n",
      "Requirement already satisfied: typing-extensions<4.0.0,>=3.7.4 in /usr/local/lib/python3.8/dist-packages (from tgintegration) (3.7.4.3)\n",
      "Requirement already satisfied: pyaes==1.6.1 in /usr/local/lib/python3.8/dist-packages (from pyrogram<2.0.0,>=1.0.0->tgintegration) (1.6.1)\n",
      "Requirement already satisfied: pysocks==1.7.1 in /usr/local/lib/python3.8/dist-packages (from pyrogram<2.0.0,>=1.0.0->tgintegration) (1.7.1)\n",
      "Requirement already satisfied: async-lru==1.0.2 in /usr/local/lib/python3.8/dist-packages (from pyrogram<2.0.0,>=1.0.0->tgintegration) (1.0.2)\n",
      "Building wheels for collected packages: python-decouple\n",
      "  Building wheel for python-decouple (setup.py) ... \u001b[?25ldone\n",
      "\u001b[?25h  Created wheel for python-decouple: filename=python_decouple-3.3-py3-none-any.whl size=9024 sha256=1436243c2b5de84ebf4e265bd885245826dd47cd60a694efde4f2aee1dd88f0a\n",
      "  Stored in directory: /root/.cache/pip/wheels/89/05/0c/780f3533d4fd7f9abdaafb2acdabdfe5542efb9fd15456030a\n",
      "Successfully built python-decouple\n",
      "Installing collected packages: python-decouple\n",
      "Successfully installed python-decouple-3.3\n"
     ]
    }
   ],
   "source": [
    "#hide\n",
    "!pip install tgintegration tgcrypto python-decouple"
   ]
  },
  {
   "cell_type": "code",
   "execution_count": null,
   "metadata": {},
   "outputs": [
    {
     "ename": "ConnectionError",
     "evalue": "Client is already connected",
     "output_type": "error",
     "traceback": [
      "\u001b[0;31m\u001b[0m",
      "\u001b[0;31mConnectionError\u001b[0mTraceback (most recent call last)",
      "\u001b[0;32m<ipython-input-7-3c793e8ea89c>\u001b[0m in \u001b[0;36m<module>\u001b[0;34m\u001b[0m\n\u001b[1;32m      1\u001b[0m \u001b[0;32mfrom\u001b[0m \u001b[0mcommon\u001b[0m \u001b[0;32mimport\u001b[0m \u001b[0mclient\u001b[0m\u001b[0;34m\u001b[0m\u001b[0;34m\u001b[0m\u001b[0m\n\u001b[0;32m----> 2\u001b[0;31m \u001b[0;32mawait\u001b[0m \u001b[0mclient\u001b[0m\u001b[0;34m.\u001b[0m\u001b[0mstart\u001b[0m\u001b[0;34m(\u001b[0m\u001b[0;34m)\u001b[0m\u001b[0;34m\u001b[0m\u001b[0;34m\u001b[0m\u001b[0m\n\u001b[0m",
      "\u001b[0;32m/usr/local/lib/python3.8/dist-packages/pyrogram/methods/utilities/start.py\u001b[0m in \u001b[0;36mstart\u001b[0;34m(self)\u001b[0m\n\u001b[1;32m     51\u001b[0m                 \u001b[0mapp\u001b[0m\u001b[0;34m.\u001b[0m\u001b[0mstop\u001b[0m\u001b[0;34m(\u001b[0m\u001b[0;34m)\u001b[0m\u001b[0;34m\u001b[0m\u001b[0;34m\u001b[0m\u001b[0m\n\u001b[1;32m     52\u001b[0m         \"\"\"\n\u001b[0;32m---> 53\u001b[0;31m         \u001b[0mis_authorized\u001b[0m \u001b[0;34m=\u001b[0m \u001b[0;32mawait\u001b[0m \u001b[0mself\u001b[0m\u001b[0;34m.\u001b[0m\u001b[0mconnect\u001b[0m\u001b[0;34m(\u001b[0m\u001b[0;34m)\u001b[0m\u001b[0;34m\u001b[0m\u001b[0;34m\u001b[0m\u001b[0m\n\u001b[0m\u001b[1;32m     54\u001b[0m \u001b[0;34m\u001b[0m\u001b[0m\n\u001b[1;32m     55\u001b[0m         \u001b[0;32mtry\u001b[0m\u001b[0;34m:\u001b[0m\u001b[0;34m\u001b[0m\u001b[0;34m\u001b[0m\u001b[0m\n",
      "\u001b[0;32m/usr/local/lib/python3.8/dist-packages/pyrogram/methods/auth/connect.py\u001b[0m in \u001b[0;36mconnect\u001b[0;34m(self)\u001b[0m\n\u001b[1;32m     34\u001b[0m         \"\"\"\n\u001b[1;32m     35\u001b[0m         \u001b[0;32mif\u001b[0m \u001b[0mself\u001b[0m\u001b[0;34m.\u001b[0m\u001b[0mis_connected\u001b[0m\u001b[0;34m:\u001b[0m\u001b[0;34m\u001b[0m\u001b[0;34m\u001b[0m\u001b[0m\n\u001b[0;32m---> 36\u001b[0;31m             \u001b[0;32mraise\u001b[0m \u001b[0mConnectionError\u001b[0m\u001b[0;34m(\u001b[0m\u001b[0;34m\"Client is already connected\"\u001b[0m\u001b[0;34m)\u001b[0m\u001b[0;34m\u001b[0m\u001b[0;34m\u001b[0m\u001b[0m\n\u001b[0m\u001b[1;32m     37\u001b[0m \u001b[0;34m\u001b[0m\u001b[0m\n\u001b[1;32m     38\u001b[0m         \u001b[0mself\u001b[0m\u001b[0;34m.\u001b[0m\u001b[0mload_config\u001b[0m\u001b[0;34m(\u001b[0m\u001b[0;34m)\u001b[0m\u001b[0;34m\u001b[0m\u001b[0;34m\u001b[0m\u001b[0m\n",
      "\u001b[0;31mConnectionError\u001b[0m: Client is already connected"
     ]
    },
    {
     "name": "stderr",
     "output_type": "stream",
     "text": [
      "database is locked\n",
      "Traceback (most recent call last):\n",
      "  File \"/usr/local/lib/python3.8/dist-packages/pyrogram/syncer.py\", line 72, in worker\n",
      "    await asyncio.wait_for(cls.event.wait(), cls.INTERVAL)\n",
      "  File \"/usr/lib/python3.8/asyncio/tasks.py\", line 490, in wait_for\n",
      "    raise exceptions.TimeoutError()\n",
      "asyncio.exceptions.TimeoutError\n",
      "\n",
      "During handling of the above exception, another exception occurred:\n",
      "\n",
      "Traceback (most recent call last):\n",
      "  File \"/usr/local/lib/python3.8/dist-packages/pyrogram/syncer.py\", line 84, in sync\n",
      "    await client.storage.save()\n",
      "  File \"/usr/local/lib/python3.8/dist-packages/pyrogram/storage/sqlite_storage.py\", line 81, in save\n",
      "    await self.date(int(time.time()))\n",
      "  File \"/usr/local/lib/python3.8/dist-packages/pyrogram/storage/sqlite_storage.py\", line 166, in date\n",
      "    return self._accessor(value)\n",
      "  File \"/usr/local/lib/python3.8/dist-packages/pyrogram/storage/sqlite_storage.py\", line 154, in _accessor\n",
      "    return self._get() if value == object else self._set(value)\n",
      "  File \"/usr/local/lib/python3.8/dist-packages/pyrogram/storage/sqlite_storage.py\", line 148, in _set\n",
      "    self.conn.execute(\n",
      "sqlite3.OperationalError: database is locked\n",
      "database is locked\n",
      "Traceback (most recent call last):\n",
      "  File \"/usr/local/lib/python3.8/dist-packages/pyrogram/syncer.py\", line 72, in worker\n",
      "    await asyncio.wait_for(cls.event.wait(), cls.INTERVAL)\n",
      "  File \"/usr/lib/python3.8/asyncio/tasks.py\", line 490, in wait_for\n",
      "    raise exceptions.TimeoutError()\n",
      "asyncio.exceptions.TimeoutError\n",
      "\n",
      "During handling of the above exception, another exception occurred:\n",
      "\n",
      "Traceback (most recent call last):\n",
      "  File \"/usr/local/lib/python3.8/dist-packages/pyrogram/syncer.py\", line 84, in sync\n",
      "    await client.storage.save()\n",
      "  File \"/usr/local/lib/python3.8/dist-packages/pyrogram/storage/sqlite_storage.py\", line 81, in save\n",
      "    await self.date(int(time.time()))\n",
      "  File \"/usr/local/lib/python3.8/dist-packages/pyrogram/storage/sqlite_storage.py\", line 166, in date\n",
      "    return self._accessor(value)\n",
      "  File \"/usr/local/lib/python3.8/dist-packages/pyrogram/storage/sqlite_storage.py\", line 154, in _accessor\n",
      "    return self._get() if value == object else self._set(value)\n",
      "  File \"/usr/local/lib/python3.8/dist-packages/pyrogram/storage/sqlite_storage.py\", line 148, in _set\n",
      "    self.conn.execute(\n",
      "sqlite3.OperationalError: database is locked\n",
      "database is locked\n",
      "Traceback (most recent call last):\n",
      "  File \"/usr/local/lib/python3.8/dist-packages/pyrogram/syncer.py\", line 72, in worker\n",
      "    await asyncio.wait_for(cls.event.wait(), cls.INTERVAL)\n",
      "  File \"/usr/lib/python3.8/asyncio/tasks.py\", line 490, in wait_for\n",
      "    raise exceptions.TimeoutError()\n",
      "asyncio.exceptions.TimeoutError\n",
      "\n",
      "During handling of the above exception, another exception occurred:\n",
      "\n",
      "Traceback (most recent call last):\n",
      "  File \"/usr/local/lib/python3.8/dist-packages/pyrogram/syncer.py\", line 84, in sync\n",
      "    await client.storage.save()\n",
      "  File \"/usr/local/lib/python3.8/dist-packages/pyrogram/storage/sqlite_storage.py\", line 81, in save\n",
      "    await self.date(int(time.time()))\n",
      "  File \"/usr/local/lib/python3.8/dist-packages/pyrogram/storage/sqlite_storage.py\", line 166, in date\n",
      "    return self._accessor(value)\n",
      "  File \"/usr/local/lib/python3.8/dist-packages/pyrogram/storage/sqlite_storage.py\", line 154, in _accessor\n",
      "    return self._get() if value == object else self._set(value)\n",
      "  File \"/usr/local/lib/python3.8/dist-packages/pyrogram/storage/sqlite_storage.py\", line 148, in _set\n",
      "    self.conn.execute(\n",
      "sqlite3.OperationalError: database is locked\n"
     ]
    }
   ],
   "source": [
    "from common import client\n",
    "await client.start()"
   ]
  },
  {
   "cell_type": "code",
   "execution_count": null,
   "metadata": {},
   "outputs": [
    {
     "data": {
      "text/plain": [
       "pyrogram.types.Chat(id=-1001067163791, type='supergroup', is_verified=False, is_restricted=False, is_creator=False, is_scam=False, title='BotList Chat 👥💬', username='BotListChat', photo=pyrogram.types.ChatPhoto(small_file_id='AQADBAATgsonGgAEAgADcU-_6xb___8WYeHnk3j3wttEAAIWBA', big_file_id='AQADBAATgsonGgAEAwADcU-_6xb___8WYeHnk3j3wt1EAAIWBA'), dc_id=4, permissions=pyrogram.types.ChatPermissions(can_send_messages=True, can_send_media_messages=True, can_send_stickers=True, can_send_animations=True, can_send_games=True, can_use_inline_bots=True, can_add_web_page_previews=True, can_send_polls=True, can_change_info=False, can_invite_users=False, can_pin_messages=False))"
      ]
     },
     "execution_count": null,
     "metadata": {},
     "output_type": "execute_result"
    },
    {
     "name": "stderr",
     "output_type": "stream",
     "text": [
      "database is locked\n",
      "Traceback (most recent call last):\n",
      "  File \"/usr/local/lib/python3.8/dist-packages/pyrogram/syncer.py\", line 72, in worker\n",
      "    await asyncio.wait_for(cls.event.wait(), cls.INTERVAL)\n",
      "  File \"/usr/lib/python3.8/asyncio/tasks.py\", line 490, in wait_for\n",
      "    raise exceptions.TimeoutError()\n",
      "asyncio.exceptions.TimeoutError\n",
      "\n",
      "During handling of the above exception, another exception occurred:\n",
      "\n",
      "Traceback (most recent call last):\n",
      "  File \"/usr/local/lib/python3.8/dist-packages/pyrogram/syncer.py\", line 84, in sync\n",
      "    await client.storage.save()\n",
      "  File \"/usr/local/lib/python3.8/dist-packages/pyrogram/storage/sqlite_storage.py\", line 81, in save\n",
      "    await self.date(int(time.time()))\n",
      "  File \"/usr/local/lib/python3.8/dist-packages/pyrogram/storage/sqlite_storage.py\", line 166, in date\n",
      "    return self._accessor(value)\n",
      "  File \"/usr/local/lib/python3.8/dist-packages/pyrogram/storage/sqlite_storage.py\", line 154, in _accessor\n",
      "    return self._get() if value == object else self._set(value)\n",
      "  File \"/usr/local/lib/python3.8/dist-packages/pyrogram/storage/sqlite_storage.py\", line 148, in _set\n",
      "    self.conn.execute(\n",
      "sqlite3.OperationalError: database is locked\n"
     ]
    }
   ],
   "source": [
    "await client.join_chat(\"botlistchat\")"
   ]
  }
 ],
 "metadata": {
  "kernelspec": {
   "display_name": "Python 3",
   "language": "python",
   "name": "python3"
  }
 },
 "nbformat": 4,
 "nbformat_minor": 2
}
